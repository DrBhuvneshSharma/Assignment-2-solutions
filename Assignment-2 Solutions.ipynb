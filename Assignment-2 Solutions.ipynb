{
 "cells": [
  {
   "cell_type": "markdown",
   "id": "e10cb39a",
   "metadata": {},
   "source": [
    "Ans.1.\n",
    "True and false are the two values which we get in Boolean data type. These value can be achieved/return either by using bool() function or by some comparison."
   ]
  },
  {
   "cell_type": "code",
   "execution_count": 3,
   "id": "9cc5829a",
   "metadata": {},
   "outputs": [
    {
     "name": "stdout",
     "output_type": "stream",
     "text": [
      "False\n"
     ]
    }
   ],
   "source": [
    "a=6\n",
    "b=8\n",
    "print(a>b)"
   ]
  },
  {
   "cell_type": "code",
   "execution_count": 5,
   "id": "b8f40903",
   "metadata": {},
   "outputs": [
    {
     "name": "stdout",
     "output_type": "stream",
     "text": [
      "True\n"
     ]
    }
   ],
   "source": [
    "print(b>a)"
   ]
  },
  {
   "cell_type": "markdown",
   "id": "edf07e01",
   "metadata": {},
   "source": [
    "Ans.2\n",
    "Three different types of Boolean operators are AND, OR and NOT"
   ]
  },
  {
   "cell_type": "markdown",
   "id": "e253e545",
   "metadata": {},
   "source": [
    "Ans.3.\n",
    "\n",
    "Boolean operator's Truth Tables\n",
    "\n",
    "1. AND operator\n",
    "                                      \n",
    "\n",
    "true and true return true               \n",
    "\n",
    "true and false returns false          \n",
    "\n",
    "false and true returns false          \n",
    "\n",
    "false and false returns false \n",
    "\n",
    "if we talk about the result of evaluation then the table can be given as:\n",
    "\n",
    "True=1, false=0\n",
    "\n",
    "a    b    output\n",
    "\n",
    "1    1      1 \n",
    "\n",
    "1    0      0\n",
    "\n",
    "0    1      0\n",
    "\n",
    "0    0      0\n",
    "\n",
    "2. OR operator\n",
    "\n",
    "true or true returns true             \n",
    "\n",
    "true or false returns true            \n",
    "\n",
    "false or true returns true           \n",
    "\n",
    "false or false returns false          \n",
    "\n",
    "a    b    output\n",
    "\n",
    "1    1      1\n",
    "\n",
    "1    0      1\n",
    "\n",
    "0    1      1\n",
    "\n",
    "0    0      0\n",
    "\n",
    "3. NoT operator                       \n",
    "\n",
    "not true returns false                             \n",
    "\n",
    "not false returns true                \n",
    "\n",
    "a     output\n",
    "\n",
    "1       0\n",
    "\n",
    "0       1\n",
    "\n",
    "\n",
    " "
   ]
  },
  {
   "cell_type": "markdown",
   "id": "7a1fd1f9",
   "metadata": {},
   "source": [
    "Ans.4."
   ]
  },
  {
   "cell_type": "code",
   "execution_count": 3,
   "id": "27bb89b7",
   "metadata": {},
   "outputs": [
    {
     "data": {
      "text/plain": [
       "False"
      ]
     },
     "execution_count": 3,
     "metadata": {},
     "output_type": "execute_result"
    }
   ],
   "source": [
    "(5 > 4) and (3 == 5)"
   ]
  },
  {
   "cell_type": "code",
   "execution_count": 4,
   "id": "33ad70d6",
   "metadata": {},
   "outputs": [
    {
     "data": {
      "text/plain": [
       "False"
      ]
     },
     "execution_count": 4,
     "metadata": {},
     "output_type": "execute_result"
    }
   ],
   "source": [
    "not(5>4)"
   ]
  },
  {
   "cell_type": "code",
   "execution_count": 5,
   "id": "60b71abe",
   "metadata": {},
   "outputs": [
    {
     "data": {
      "text/plain": [
       "True"
      ]
     },
     "execution_count": 5,
     "metadata": {},
     "output_type": "execute_result"
    }
   ],
   "source": [
    "(5>4) or (3==5)"
   ]
  },
  {
   "cell_type": "code",
   "execution_count": 6,
   "id": "954b1293",
   "metadata": {},
   "outputs": [
    {
     "data": {
      "text/plain": [
       "False"
      ]
     },
     "execution_count": 6,
     "metadata": {},
     "output_type": "execute_result"
    }
   ],
   "source": [
    "not((5>4) or (3==5))"
   ]
  },
  {
   "cell_type": "code",
   "execution_count": 8,
   "id": "e6384145",
   "metadata": {},
   "outputs": [
    {
     "data": {
      "text/plain": [
       "False"
      ]
     },
     "execution_count": 8,
     "metadata": {},
     "output_type": "execute_result"
    }
   ],
   "source": [
    "(True and True) and (True==False)"
   ]
  },
  {
   "cell_type": "code",
   "execution_count": 9,
   "id": "75d06ae2",
   "metadata": {},
   "outputs": [
    {
     "data": {
      "text/plain": [
       "True"
      ]
     },
     "execution_count": 9,
     "metadata": {},
     "output_type": "execute_result"
    }
   ],
   "source": [
    "(not False) or (not True)"
   ]
  },
  {
   "cell_type": "markdown",
   "id": "0f014695",
   "metadata": {},
   "source": [
    "Ans.5.\n",
    "Six comparison operators: \n",
    "1. == (Equal to)\n",
    "2. != (not equal to)\n",
    "3. <  (less than)\n",
    "4. >  (greater than)\n",
    "5. <= (less than equal to)\n",
    "6. >= (greater than equal to)"
   ]
  },
  {
   "cell_type": "markdown",
   "id": "5c3ffd56",
   "metadata": {},
   "source": [
    "Ans.6.\n",
    "equal to(==) is a boolean operator which is used to compare two values, whereas assignment operator(=) is used to assign values in a variable.ex as follows"
   ]
  },
  {
   "cell_type": "code",
   "execution_count": 11,
   "id": "afed56ca",
   "metadata": {},
   "outputs": [
    {
     "name": "stdout",
     "output_type": "stream",
     "text": [
      "False\n"
     ]
    }
   ],
   "source": [
    "# equal to(==)\n",
    "a=56\n",
    "b=60\n",
    "print(a==b)\n",
    "# a=56, so, 'a' has been assigned a value of 56\n",
    "# a==b, here the values of the two are compared and the output is shown"
   ]
  },
  {
   "cell_type": "code",
   "execution_count": 13,
   "id": "315b487a",
   "metadata": {},
   "outputs": [
    {
     "name": "stdout",
     "output_type": "stream",
     "text": [
      "56\n"
     ]
    }
   ],
   "source": [
    "print(a)"
   ]
  },
  {
   "cell_type": "code",
   "execution_count": 15,
   "id": "83beaf90",
   "metadata": {},
   "outputs": [
    {
     "name": "stdout",
     "output_type": "stream",
     "text": [
      "ham\n",
      "spam\n",
      "spam\n"
     ]
    }
   ],
   "source": [
    "#Ans.7.\n",
    "spam=0\n",
    "#block 1\n",
    "if spam ==10:\n",
    "    print('eggs')\n",
    "#block 2\n",
    "if spam > 5:\n",
    "    print('bacon')\n",
    "#block 3\n",
    "else:\n",
    "    print('ham')\n",
    "    print('spam')\n",
    "    print('spam')\n",
    "# value of 'spam' will be checked against each staement and return it is true.\n",
    "\n",
    "    "
   ]
  },
  {
   "cell_type": "code",
   "execution_count": 1,
   "id": "58a5c023",
   "metadata": {},
   "outputs": [
    {
     "name": "stdout",
     "output_type": "stream",
     "text": [
      "2\n",
      "howdy\n"
     ]
    }
   ],
   "source": [
    "spam = int(input())\n",
    "if spam== 1:\n",
    "    print('hello')\n",
    "elif spam== 2:\n",
    "    print('howdy')\n",
    "else:\n",
    "    print('Greetings!')"
   ]
  },
  {
   "cell_type": "markdown",
   "id": "ad7531e9",
   "metadata": {},
   "source": [
    "ans.8.\n",
    "ctrl+c can be pressed to come out of an endless loop."
   ]
  },
  {
   "cell_type": "markdown",
   "id": "a8b27b91",
   "metadata": {},
   "source": [
    "Ans.9.\n",
    "'break' statement breaks the loop, while 'continue' statement take back to the start of loop. ex:"
   ]
  },
  {
   "cell_type": "code",
   "execution_count": 10,
   "id": "262835be",
   "metadata": {},
   "outputs": [
    {
     "name": "stdout",
     "output_type": "stream",
     "text": [
      "1\n",
      "2\n"
     ]
    }
   ],
   "source": [
    "#Ans.10-How can you tell the difference between break and continue?\n",
    "a= [1,2,3,4,5,6]\n",
    "for i in a:\n",
    "    if i==3:\n",
    "        break\n",
    "    print(i)\n",
    "\n",
    "    \n"
   ]
  },
  {
   "cell_type": "code",
   "execution_count": 19,
   "id": "8c4b9ba8",
   "metadata": {},
   "outputs": [
    {
     "name": "stdout",
     "output_type": "stream",
     "text": [
      "1\n",
      "2\n",
      "4\n",
      "5\n",
      "6\n"
     ]
    }
   ],
   "source": [
    "for i in a:\n",
    "    if i==3:\n",
    "        continue\n",
    "    print(i)"
   ]
  },
  {
   "cell_type": "code",
   "execution_count": 20,
   "id": "9d2acb6d",
   "metadata": {},
   "outputs": [
    {
     "name": "stdout",
     "output_type": "stream",
     "text": [
      "0\n",
      "1\n",
      "2\n",
      "3\n",
      "4\n",
      "5\n",
      "6\n",
      "7\n",
      "8\n",
      "9\n"
     ]
    }
   ],
   "source": [
    "# Ans.11-In a for loop, what is the difference between range(10), range(0, 10), and range(0, 10, 1)?\n",
    "for i in range(10):\n",
    "    print(i)"
   ]
  },
  {
   "cell_type": "code",
   "execution_count": 24,
   "id": "989e087c",
   "metadata": {},
   "outputs": [
    {
     "name": "stdout",
     "output_type": "stream",
     "text": [
      "1\n",
      "2\n",
      "3\n",
      "4\n",
      "5\n",
      "6\n",
      "7\n",
      "8\n",
      "9\n"
     ]
    }
   ],
   "source": [
    "for i in range(0,10):\n",
    "    print(i)"
   ]
  },
  {
   "cell_type": "code",
   "execution_count": 22,
   "id": "892803ef",
   "metadata": {},
   "outputs": [
    {
     "name": "stdout",
     "output_type": "stream",
     "text": [
      "0\n",
      "1\n",
      "2\n",
      "3\n",
      "4\n",
      "5\n",
      "6\n",
      "7\n",
      "8\n",
      "9\n"
     ]
    }
   ],
   "source": [
    "for i in range(0,10,1):\n",
    "    print(i)"
   ]
  },
  {
   "cell_type": "markdown",
   "id": "93e179a8",
   "metadata": {},
   "source": [
    "Thus, we get same values if used a for loop to range(10) or range(0,10) or range(0,10,1).\n",
    "\n",
    "range(10) means 10 values staring from zero\n",
    "\n",
    "range(0,10) means value will start from 0 and will go upto 10 values except 10, so the strting point can be changed by replacing the '0' in range(0,10) and the ending point will remain upto 10 except 10.\n",
    "\n",
    "range(0,10,1) means value starts from 0 will go upto 10 except 10 with an increment of 1 in previous value. so if we replace '1' by another value, the increment will also change."
   ]
  },
  {
   "cell_type": "code",
   "execution_count": 4,
   "id": "1f7348f1",
   "metadata": {},
   "outputs": [
    {
     "name": "stdout",
     "output_type": "stream",
     "text": [
      "1\n",
      "2\n",
      "3\n",
      "4\n",
      "5\n",
      "6\n",
      "7\n",
      "8\n",
      "9\n",
      "10\n"
     ]
    }
   ],
   "source": [
    "#Ans.12-Write a short program that prints the numbers 1 to 10 using a for loop. \n",
    "#Then write an equivalent program that prints the numbers 1 to 10 using a while loop.\n",
    "for i in range(1,20):\n",
    "    if i<=10:        \n",
    "        print(i)"
   ]
  },
  {
   "cell_type": "code",
   "execution_count": 1,
   "id": "91bd3c69",
   "metadata": {},
   "outputs": [
    {
     "name": "stdout",
     "output_type": "stream",
     "text": [
      "1\n",
      "2\n",
      "3\n",
      "4\n",
      "5\n",
      "6\n",
      "7\n",
      "8\n",
      "9\n",
      "10\n"
     ]
    }
   ],
   "source": [
    "a=1\n",
    "while  a<=10:\n",
    "    print(a)\n",
    "    a=a+1\n",
    "\n",
    "    "
   ]
  },
  {
   "cell_type": "markdown",
   "id": "25a74ebf",
   "metadata": {},
   "source": [
    "#Ans.13-If you had a function named bacon() inside a module named spam, how would you call it after importing spam?\n",
    "it can be called by spam.bacon(). "
   ]
  }
 ],
 "metadata": {
  "kernelspec": {
   "display_name": "Python 3 (ipykernel)",
   "language": "python",
   "name": "python3"
  },
  "language_info": {
   "codemirror_mode": {
    "name": "ipython",
    "version": 3
   },
   "file_extension": ".py",
   "mimetype": "text/x-python",
   "name": "python",
   "nbconvert_exporter": "python",
   "pygments_lexer": "ipython3",
   "version": "3.9.7"
  }
 },
 "nbformat": 4,
 "nbformat_minor": 5
}
